{
 "cells": [
  {
   "cell_type": "markdown",
   "id": "b7072856",
   "metadata": {},
   "source": [
    "# Trần Nguyên Trung - 19127607"
   ]
  },
  {
   "cell_type": "markdown",
   "id": "fb14cb9d",
   "metadata": {},
   "source": [
    "- import library"
   ]
  },
  {
   "cell_type": "code",
   "execution_count": 1,
   "id": "9f1cb417",
   "metadata": {},
   "outputs": [],
   "source": [
    "import numpy as np\n",
    "import pandas as pd\n",
    "import cv2\n",
    "from matplotlib import pyplot as plt\n",
    "from tqdm import tqdm\n",
    "\n",
    "\n",
    "import tensorflow as tf\n",
    "from tensorflow import keras\n",
    "from tensorflow.keras.utils import Sequence, to_categorical\n",
    "from tensorflow.keras.models import Sequential\n",
    "from tensorflow.keras.layers import Conv2D, Dense, Flatten, MaxPooling2D, Dropout\n",
    "from keras.preprocessing.image import ImageDataGenerator\n",
    "from tensorflow.keras.applications import DenseNet121\n",
    "import tensorflow.keras.layers as L\n",
    "import tensorflow.keras.backend as K"
   ]
  },
  {
   "cell_type": "markdown",
   "id": "5e0de937",
   "metadata": {},
   "source": [
    "- Đọc file và phân tích dữ liệu"
   ]
  },
  {
   "cell_type": "code",
   "execution_count": 2,
   "id": "ce5c27d5",
   "metadata": {},
   "outputs": [],
   "source": [
    "sample_submission=\"./plant-pathology-2020-fgvc7/sample_submission.csv\"\n",
    "submission = pd.read_csv(sample_submission)\n",
    "train = pd.read_csv('./plant-pathology-2020-fgvc7/train.csv')\n",
    "test = pd.read_csv('./plant-pathology-2020-fgvc7/test.csv')\n",
    "train_data = pd.DataFrame(train)\n",
    "test_data = pd.DataFrame(test)"
   ]
  },
  {
   "cell_type": "code",
   "execution_count": 3,
   "id": "ff219e6f",
   "metadata": {},
   "outputs": [
    {
     "name": "stdout",
     "output_type": "stream",
     "text": [
      "Train:  (1821, 5)\n",
      "Test:  (1821, 1)\n"
     ]
    }
   ],
   "source": [
    "print('Train: ', train_data.shape)\n",
    "print('Test: ', test_data.shape)"
   ]
  },
  {
   "cell_type": "markdown",
   "id": "f7ebb0a5",
   "metadata": {},
   "source": [
    "- Lưu các hình ảnh test và train"
   ]
  },
  {
   "cell_type": "code",
   "execution_count": 4,
   "id": "5bad48a6",
   "metadata": {},
   "outputs": [],
   "source": [
    "\n",
    "img_folder_path = './plant-pathology-2020-fgvc7/images'\n",
    "a = train_data['image_id']\n",
    "train_img = [i for i in a]\n",
    "a = test_data['image_id']\n",
    "test_img = [i for i in a]\n"
   ]
  },
  {
   "cell_type": "markdown",
   "id": "59ad7989",
   "metadata": {},
   "source": [
    "- Cấu hình các cột bệnh, epochs, size image và size batch để sử dụng ImageDatagenerator"
   ]
  },
  {
   "cell_type": "code",
   "execution_count": 5,
   "id": "e0cf8d13",
   "metadata": {},
   "outputs": [],
   "source": [
    "column_names=[\"healthy\",\"multiple_diseases\",\"rust\",\"scab\"]\n",
    "epochs = 8\n",
    "img_height = 180\n",
    "img_width = 180\n",
    "batch_size = 64"
   ]
  },
  {
   "cell_type": "markdown",
   "id": "4a747422",
   "metadata": {},
   "source": [
    "- Dữ liệu train"
   ]
  },
  {
   "cell_type": "code",
   "execution_count": 6,
   "id": "593db166",
   "metadata": {},
   "outputs": [
    {
     "name": "stdout",
     "output_type": "stream",
     "text": [
      "Healthy:  516\n",
      "Multiple diseases:  91\n",
      "Rust:  622\n",
      "Scab:  592\n"
     ]
    }
   ],
   "source": [
    "healthy = len(train_data[train_data['healthy'] == 1])\n",
    "mul_disease = len(train_data[train_data['multiple_diseases'] == 1])\n",
    "rust = len(train_data[train_data['rust'] == 1])\n",
    "scab = len(train_data[train_data['scab'] == 1])\n",
    "print('Healthy: ', healthy)\n",
    "print('Multiple diseases: ', mul_disease)\n",
    "print('Rust: ', rust)\n",
    "print('Scab: ', scab)"
   ]
  },
  {
   "cell_type": "markdown",
   "id": "f49ea7cb",
   "metadata": {},
   "source": [
    "- Thêm đuôi jpg cho image_id"
   ]
  },
  {
   "cell_type": "code",
   "execution_count": 7,
   "id": "c9e20124",
   "metadata": {},
   "outputs": [
    {
     "name": "stderr",
     "output_type": "stream",
     "text": [
      "100%|██████████████████████████████████████████████████████████████████████████| 1821/1821 [00:00<00:00, 451942.46it/s]\n",
      "100%|███████████████████████████████████████████████████████████████████████████| 1821/1821 [00:00<00:00, 27166.77it/s]\n"
     ]
    }
   ],
   "source": [
    "for i in tqdm(range(train.shape[0])):\n",
    "    img=(train['image_id'])\n",
    "add = img.astype(str)+\".jpg\"\n",
    "train['image_id'] = add \n",
    "\n",
    "for i in tqdm(range(test.shape[0])):\n",
    "    img=(test['image_id'][:])\n",
    "add = img.astype(str)+\".jpg\"\n",
    "test['image_id'] = add"
   ]
  },
  {
   "cell_type": "markdown",
   "id": "a4fef6aa",
   "metadata": {},
   "source": [
    "- ImageDatagenerator giảm việc load data. Lấy các validated image"
   ]
  },
  {
   "cell_type": "code",
   "execution_count": 8,
   "id": "9c87d275",
   "metadata": {},
   "outputs": [
    {
     "name": "stdout",
     "output_type": "stream",
     "text": [
      "Found 1460 validated image filenames.\n",
      "Found 361 validated image filenames.\n",
      "Found 1821 validated image filenames.\n"
     ]
    }
   ],
   "source": [
    "datagen = ImageDataGenerator(\n",
    "      rescale=1./255,\n",
    "      rotation_range=45,\n",
    "      zca_whitening=False,\n",
    "      zca_epsilon=1e-06,\n",
    "      width_shift_range=0.2,\n",
    "      height_shift_range=0.2,\n",
    "      brightness_range=(0.1,1.0),\n",
    "      channel_shift_range=5.0,\n",
    "      shear_range=0.2,\n",
    "      validation_split=0.2,\n",
    "      zoom_range=0.2,\n",
    "      horizontal_flip=True,\n",
    "      vertical_flip=True,\n",
    "      fill_mode='nearest')\n",
    "\n",
    "test_datagen=ImageDataGenerator(rescale=1./255)\n",
    "\n",
    "train_image_generator=datagen.flow_from_dataframe(\n",
    "    dataframe=train[:1460],\n",
    "    directory='./plant-pathology-2020-fgvc7/images/',\n",
    "    x_col=\"image_id\",\n",
    "    y_col=column_names,\n",
    "    batch_size=batch_size,\n",
    "    seed=42,\n",
    "    shuffle=True,\n",
    "    class_mode=\"raw\",\n",
    "    target_size=(img_height,img_width))\n",
    "\n",
    "valid_image_generator=test_datagen.flow_from_dataframe(\n",
    "    dataframe=train[1460:],\n",
    "    directory='./plant-pathology-2020-fgvc7/images/',\n",
    "    x_col=\"image_id\",\n",
    "    y_col=column_names,\n",
    "    batch_size=batch_size,\n",
    "    seed=42,\n",
    "    shuffle=True,\n",
    "    class_mode=\"raw\",\n",
    "    target_size=(img_height,img_width))\n",
    "\n",
    "test_image_generator=test_datagen.flow_from_dataframe(\n",
    "    dataframe=test[:],\n",
    "    directory='./plant-pathology-2020-fgvc7/images/',\n",
    "    x_col=\"image_id\",\n",
    "    batch_size=1,\n",
    "    seed=42,\n",
    "    shuffle=False,\n",
    "    class_mode=None,\n",
    "    target_size=(img_height,img_width))"
   ]
  },
  {
   "cell_type": "markdown",
   "id": "7562a383",
   "metadata": {},
   "source": [
    "- Xây dựng model"
   ]
  },
  {
   "cell_type": "code",
   "execution_count": null,
   "id": "04b2f10c",
   "metadata": {},
   "outputs": [],
   "source": []
  },
  {
   "cell_type": "code",
   "execution_count": 9,
   "id": "9498edd8",
   "metadata": {},
   "outputs": [
    {
     "name": "stdout",
     "output_type": "stream",
     "text": [
      "Model: \"sequential\"\n",
      "_________________________________________________________________\n",
      "Layer (type)                 Output Shape              Param #   \n",
      "=================================================================\n",
      "densenet121 (Functional)     (None, 5, 5, 1024)        7037504   \n",
      "_________________________________________________________________\n",
      "global_average_pooling2d (Gl (None, 1024)              0         \n",
      "_________________________________________________________________\n",
      "dense (Dense)                (None, 4)                 4100      \n",
      "=================================================================\n",
      "Total params: 7,041,604\n",
      "Trainable params: 6,957,956\n",
      "Non-trainable params: 83,648\n",
      "_________________________________________________________________\n"
     ]
    }
   ],
   "source": [
    "model = tf.keras.Sequential([DenseNet121(input_shape=(img_height, img_width, 3),\n",
    "                                             weights='imagenet',\n",
    "                                             include_top=False),\n",
    "                                 L.GlobalAveragePooling2D(),\n",
    "                                 L.Dense(len(column_names),\n",
    "                                         activation='softmax')])\n",
    "        \n",
    "model.compile(optimizer='adam',\n",
    "                  loss = 'categorical_crossentropy',\n",
    "                  metrics=['categorical_accuracy'])\n",
    "model.summary()\n"
   ]
  },
  {
   "cell_type": "markdown",
   "id": "c6fad417",
   "metadata": {},
   "source": [
    "- Train model"
   ]
  },
  {
   "cell_type": "code",
   "execution_count": 10,
   "id": "bd99ff4e",
   "metadata": {},
   "outputs": [
    {
     "name": "stdout",
     "output_type": "stream",
     "text": [
      "WARNING:tensorflow:From <ipython-input-10-1848271b32e8>:1: Model.fit_generator (from tensorflow.python.keras.engine.training) is deprecated and will be removed in a future version.\n",
      "Instructions for updating:\n",
      "Please use Model.fit, which supports generators.\n",
      "Epoch 1/8\n",
      "23/23 [==============================] - 366s 16s/step - loss: 0.7202 - categorical_accuracy: 0.7781 - val_loss: 43.3234 - val_categorical_accuracy: 0.3435\n",
      "Epoch 2/8\n",
      "23/23 [==============================] - 374s 16s/step - loss: 0.4495 - categorical_accuracy: 0.8548 - val_loss: 6.0249 - val_categorical_accuracy: 0.4127\n",
      "Epoch 3/8\n",
      "23/23 [==============================] - 372s 16s/step - loss: 0.3411 - categorical_accuracy: 0.8829 - val_loss: 12.5637 - val_categorical_accuracy: 0.3324\n",
      "Epoch 4/8\n",
      "23/23 [==============================] - 345s 15s/step - loss: 0.2788 - categorical_accuracy: 0.9089 - val_loss: 1.4219 - val_categorical_accuracy: 0.6953\n",
      "Epoch 5/8\n",
      "23/23 [==============================] - 353s 15s/step - loss: 0.2401 - categorical_accuracy: 0.9158 - val_loss: 1.4980 - val_categorical_accuracy: 0.7368\n",
      "Epoch 6/8\n",
      "23/23 [==============================] - 365s 16s/step - loss: 0.2595 - categorical_accuracy: 0.9205 - val_loss: 1.5917 - val_categorical_accuracy: 0.5900\n",
      "Epoch 7/8\n",
      "23/23 [==============================] - 366s 16s/step - loss: 0.2429 - categorical_accuracy: 0.9158 - val_loss: 0.3979 - val_categorical_accuracy: 0.8947\n",
      "Epoch 8/8\n",
      "23/23 [==============================] - 369s 16s/step - loss: 0.2180 - categorical_accuracy: 0.9295 - val_loss: 0.9903 - val_categorical_accuracy: 0.8532\n"
     ]
    }
   ],
   "source": [
    "history=model.fit_generator(generator=train_image_generator,\n",
    "                            validation_data=valid_image_generator,\n",
    "                            epochs=epochs)"
   ]
  },
  {
   "cell_type": "markdown",
   "id": "6dea540b",
   "metadata": {},
   "source": [
    "- Đánh giá model"
   ]
  },
  {
   "cell_type": "code",
   "execution_count": 11,
   "id": "908fb89f",
   "metadata": {},
   "outputs": [
    {
     "data": {
      "image/png": "[encoded data removed]",
      "text/plain": [
       "<Figure size 1440x720 with 2 Axes>"
      ]
     },
     "metadata": {
      "needs_background": "light"
     },
     "output_type": "display_data"
    }
   ],
   "source": [
    "acc = history.history['categorical_accuracy']\n",
    "val_acc = history.history['val_categorical_accuracy']\n",
    "\n",
    "loss=history.history['loss']\n",
    "val_loss=history.history['val_loss']\n",
    "\n",
    "epochs_range = range(epochs)\n",
    "\n",
    "plt.figure(figsize=(20, 10))\n",
    "plt.subplot(1, 2, 1)\n",
    "plt.plot(epochs_range, acc, label='Training Accuracy')\n",
    "plt.plot(epochs_range, val_acc, label='Validation Accuracy')\n",
    "plt.legend(loc='lower right')\n",
    "plt.title('Training and Validation Accuracy')\n",
    "\n",
    "plt.subplot(1, 2, 2)\n",
    "plt.plot(epochs_range, loss, label='Training Loss')\n",
    "plt.plot(epochs_range, val_loss, label='Validation Loss')\n",
    "plt.legend(loc='upper right')\n",
    "plt.title('Training and Validation Loss')\n",
    "plt.show()"
   ]
  },
  {
   "cell_type": "code",
   "execution_count": 12,
   "id": "7cca032a",
   "metadata": {},
   "outputs": [
    {
     "name": "stdout",
     "output_type": "stream",
     "text": [
      "WARNING:tensorflow:From <ipython-input-12-a81bb5882801>:2: Model.predict_generator (from tensorflow.python.keras.engine.training) is deprecated and will be removed in a future version.\n",
      "Instructions for updating:\n",
      "Please use Model.predict, which supports generators.\n",
      "1821/1821 [==============================] - 113s 62ms/step\n"
     ]
    }
   ],
   "source": [
    "test_image_generator.reset()\n",
    "prediction=model.predict_generator(test_image_generator,verbose=1)\n",
    "\n",
    "submission.loc[:, 'healthy':] = prediction\n",
    "submission.to_csv('submission.csv', index=False)"
   ]
  },
  {
   "cell_type": "code",
   "execution_count": null,
   "id": "632b4e1a",
   "metadata": {},
   "outputs": [],
   "source": []
  }
 ],
 "metadata": {
  "kernelspec": {
   "display_name": "Python 3",
   "language": "python",
   "name": "python3"
  },
  "language_info": {
   "codemirror_mode": {
    "name": "ipython",
    "version": 3
   },
   "file_extension": ".py",
   "mimetype": "text/x-python",
   "name": "python",
   "nbconvert_exporter": "python",
   "pygments_lexer": "ipython3",
   "version": "3.8.8"
  }
 },
 "nbformat": 4,
 "nbformat_minor": 5
}
